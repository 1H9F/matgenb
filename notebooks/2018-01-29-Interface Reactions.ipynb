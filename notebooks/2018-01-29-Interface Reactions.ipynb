{
 "cells": [
  {
   "cell_type": "markdown",
   "metadata": {},
   "source": [
    "# Interface Reactions\n",
    "\n",
    "This notebook shows how to\n",
    "* Obtain information about interface reactions between two solid substances in contact, and\n",
    "* Plot reaction energy as a function of mixing ratio.\n",
    "\n",
    "Written using:\n",
    "- pymatgen==2018.3.13\n",
    "\n",
    "We use the [Materials Project API](https://github.com/materialsproject/mapidoc) to obtain energies of compounds."
   ]
  },
  {
   "cell_type": "code",
   "execution_count": 1,
   "metadata": {},
   "outputs": [],
   "source": [
    "from pymatgen.ext.matproj import MPRester\n",
    "from pymatgen.analysis.interface_reactions import InterfacialReactivity\n",
    "from pymatgen.analysis.phase_diagram import PhaseDiagram, GrandPotentialPhaseDiagram\n",
    "from pymatgen import Composition, Element\n",
    "\n",
    "%matplotlib inline\n",
    "\n",
    "# Initialize the REST API interface. You may need to put your own API key in as an arg.\n",
    "mpr = MPRester()"
   ]
  },
  {
   "cell_type": "markdown",
   "metadata": {},
   "source": [
    "First, set the values of the two reactants. Optionally, simulate the case where the reaction system is in contact with an elemental reservoir.\n",
    "\n",
    "Because the methodology here is to generate a pseudo-binary phase stability diagram of two reactants as a function of mixing ratio, the addition of an elemental reservoir implies construction of a so-called _grand potential phase diagram_."
   ]
  },
  {
   "cell_type": "code",
   "execution_count": 2,
   "metadata": {},
   "outputs": [],
   "source": [
    "# Chemical formulae for two solid reactants.\n",
    "reactant1 = 'LiCoO2'\n",
    "reactant2 = 'Li3PS4'\n",
    "\n",
    "# Is the system open to an elemental reservoir?\n",
    "grand = True\n",
    "\n",
    "if grand:\n",
    "    # Element in the elemental reservoir.\n",
    "    open_el = 'Co'\n",
    "    # Relative chemical potential vs. pure substance. Must be non-positive.\n",
    "    relative_mu = -1"
   ]
  },
  {
   "cell_type": "markdown",
   "metadata": {},
   "source": [
    "Now, compile the critical reaction information:"
   ]
  },
  {
   "cell_type": "code",
   "execution_count": 3,
   "metadata": {},
   "outputs": [],
   "source": [
    "# Get the compositions of the reactants\n",
    "comp1 = Composition(reactant1)\n",
    "comp2 = Composition(reactant2)\n",
    "\n",
    "# Gather all elements involved in the chemical system.\n",
    "elements = [e.symbol for e in comp1.elements + comp2.elements]\n",
    "if grand:\n",
    "    elements.append(open_el)\n",
    "elements = list(set(elements)) # Remove duplicates\n",
    "\n",
    "# Get all entries in the chemical system\n",
    "entries = mpr.get_entries_in_chemsys(elements)\n",
    "\n",
    "# Build a phase diagram using these entries.\n",
    "pd = PhaseDiagram(entries)\n",
    "\n",
    "# For an open system, include the grand potential phase diagram.\n",
    "if grand:\n",
    "    # Get the chemical potential of the pure subtance.\n",
    "    mu = pd.get_transition_chempots(Element(open_el))[0]\n",
    "    # Set the chemical potential in the elemental reservoir.\n",
    "    chempots = {open_el: relative_mu + mu}\n",
    "    # Build the grand potential phase diagram\n",
    "    gpd = GrandPotentialPhaseDiagram(entries, chempots)\n",
    "    # Create InterfacialReactivity object.\n",
    "    interface = InterfacialReactivity(\n",
    "        comp1, comp2, gpd, norm=True, include_no_mixing_energy=True, pd_non_grand=pd, use_hull_energy=False)\n",
    "else:\n",
    "    interface = InterfacialReactivity(\n",
    "        comp1, comp2, pd, norm=True, include_no_mixing_energy=False, pd_non_grand=None, use_hull_energy=False)"
   ]
  },
  {
   "cell_type": "markdown",
   "metadata": {},
   "source": [
    "From here, you can plot reaction energy versus mixing ratio:"
   ]
  },
  {
   "cell_type": "code",
   "execution_count": 4,
   "metadata": {},
   "outputs": [
    {
     "data": {
      "image/png": "[encoded data removed]",
      "text/plain": [
       "<Figure size 432x288 with 1 Axes>"
      ]
     },
     "metadata": {},
     "output_type": "display_data"
    }
   ],
   "source": [
    "plt = interface.plot()"
   ]
  },
  {
   "cell_type": "markdown",
   "metadata": {},
   "source": [
    "You can also collect the critical reaction equations at each point:"
   ]
  },
  {
   "cell_type": "code",
   "execution_count": 5,
   "metadata": {},
   "outputs": [
    {
     "data": {
      "text/html": [
       "<div>\n",
       "<style scoped>\n",
       "    .dataframe tbody tr th:only-of-type {\n",
       "        vertical-align: middle;\n",
       "    }\n",
       "\n",
       "    .dataframe tbody tr th {\n",
       "        vertical-align: top;\n",
       "    }\n",
       "\n",
       "    .dataframe thead th {\n",
       "        text-align: right;\n",
       "    }\n",
       "</style>\n",
       "<table border=\"1\" class=\"dataframe\">\n",
       "  <thead>\n",
       "    <tr style=\"text-align: right;\">\n",
       "      <th></th>\n",
       "      <th>mixing ratio</th>\n",
       "      <th>reaction energy (eV/atom)</th>\n",
       "      <th>reaction</th>\n",
       "    </tr>\n",
       "  </thead>\n",
       "  <tbody>\n",
       "    <tr>\n",
       "      <th>0</th>\n",
       "      <td>0.0000</td>\n",
       "      <td>0.0000</td>\n",
       "      <td>Li3PS4 -&gt; Li3PS4</td>\n",
       "    </tr>\n",
       "    <tr>\n",
       "      <th>1</th>\n",
       "      <td>0.5000</td>\n",
       "      <td>-0.4624</td>\n",
       "      <td>Li3PS4 + 2 LiCoO2 -&gt; 0.5 Co + Li2S + 1.5 CoS2 ...</td>\n",
       "    </tr>\n",
       "    <tr>\n",
       "      <th>2</th>\n",
       "      <td>0.8000</td>\n",
       "      <td>-0.5781</td>\n",
       "      <td>0.3333 Li3PS4 + 2.667 LiCoO2 -&gt; 2.667 Co + Li2...</td>\n",
       "    </tr>\n",
       "    <tr>\n",
       "      <th>3</th>\n",
       "      <td>0.8421</td>\n",
       "      <td>-0.5676</td>\n",
       "      <td>0.75 Li3PS4 + 8 LiCoO2 -&gt; 8 Co + Li2O + 3 Li2S...</td>\n",
       "    </tr>\n",
       "    <tr>\n",
       "      <th>4</th>\n",
       "      <td>0.8500</td>\n",
       "      <td>-0.5426</td>\n",
       "      <td>1.5 Li3PS4 + 17 LiCoO2 -&gt; 16 Co + Li5CoO4 + 6 ...</td>\n",
       "    </tr>\n",
       "    <tr>\n",
       "      <th>5</th>\n",
       "      <td>1.0000</td>\n",
       "      <td>-0.0000</td>\n",
       "      <td>LiCoO2 -&gt; LiCoO2</td>\n",
       "    </tr>\n",
       "  </tbody>\n",
       "</table>\n",
       "</div>"
      ],
      "text/plain": [
       "   mixing ratio  reaction energy (eV/atom)  \\\n",
       "0        0.0000                     0.0000   \n",
       "1        0.5000                    -0.4624   \n",
       "2        0.8000                    -0.5781   \n",
       "3        0.8421                    -0.5676   \n",
       "4        0.8500                    -0.5426   \n",
       "5        1.0000                    -0.0000   \n",
       "\n",
       "                                            reaction  \n",
       "0                                   Li3PS4 -> Li3PS4  \n",
       "1  Li3PS4 + 2 LiCoO2 -> 0.5 Co + Li2S + 1.5 CoS2 ...  \n",
       "2  0.3333 Li3PS4 + 2.667 LiCoO2 -> 2.667 Co + Li2...  \n",
       "3  0.75 Li3PS4 + 8 LiCoO2 -> 8 Co + Li2O + 3 Li2S...  \n",
       "4  1.5 Li3PS4 + 17 LiCoO2 -> 16 Co + Li5CoO4 + 6 ...  \n",
       "5                                   LiCoO2 -> LiCoO2  "
      ]
     },
     "execution_count": 5,
     "metadata": {},
     "output_type": "execute_result"
    }
   ],
   "source": [
    "from collections import OrderedDict\n",
    "from pandas import DataFrame\n",
    "\n",
    "critical_rxns = [\n",
    "    OrderedDict([\n",
    "        (\"mixing ratio\", round(ratio, 4)),\n",
    "        (\"reaction energy (eV/atom)\", round(energy, 4)),\n",
    "        (\"reaction\", rxn),\n",
    "    ])\n",
    "    for _, ratio, energy, rxn in interface.get_kinks()]\n",
    "DataFrame(critical_rxns)"
   ]
  },
  {
   "cell_type": "markdown",
   "metadata": {},
   "source": [
    "Finally, note that the reaction equations are `Reaction` objects suitable for structured analysis:"
   ]
  },
  {
   "cell_type": "code",
   "execution_count": 6,
   "metadata": {},
   "outputs": [
    {
     "name": "stdout",
     "output_type": "stream",
     "text": [
      "0.3333 Li3PS4 + 2.667 LiCoO2 -> 2.667 Co + Li2SO4 + 0.3333 Li2S + 0.3333 Li3PO4\n",
      "<class 'pymatgen.analysis.reaction_calculator.Reaction'>\n"
     ]
    }
   ],
   "source": [
    "rxn = critical_rxns[2][\"reaction\"]\n",
    "print(rxn)\n",
    "print(type(rxn))"
   ]
  },
  {
   "cell_type": "markdown",
   "metadata": {},
   "source": [
    "Now, the REST API interface provides a shortcut to obtain reaction information in a list of map."
   ]
  },
  {
   "cell_type": "code",
   "execution_count": 7,
   "metadata": {},
   "outputs": [
    {
     "name": "stdout",
     "output_type": "stream",
     "text": [
      "{'energy': -0.46238682625000127, 'ratio': 0.49999999999999994, 'rxn': Li3PS4 + 2 LiCoO2 -> 0.5 Co + Li2S + Li3PO4 + 1.5 CoS2}\n"
     ]
    }
   ],
   "source": [
    "# Get interface reaction information for reactants LiCoO2 and Li3PS4 in open system to Co.\n",
    "kinks_from_API = mpr.get_interface_reactions('LiCoO2','Li3PS4', \n",
    "                                             open_el='Co', relative_mu=-1, use_hull_energy=False)\n",
    "\n",
    "# Get inforamtion for the second critical reaction.\n",
    "print(kinks_from_API[1])"
   ]
  },
  {
   "cell_type": "markdown",
   "metadata": {},
   "source": [
    "The critical reaction information from REST API should be the same as in the previous table:"
   ]
  },
  {
   "cell_type": "code",
   "execution_count": 8,
   "metadata": {},
   "outputs": [
    {
     "data": {
      "text/html": [
       "<div>\n",
       "<style scoped>\n",
       "    .dataframe tbody tr th:only-of-type {\n",
       "        vertical-align: middle;\n",
       "    }\n",
       "\n",
       "    .dataframe tbody tr th {\n",
       "        vertical-align: top;\n",
       "    }\n",
       "\n",
       "    .dataframe thead th {\n",
       "        text-align: right;\n",
       "    }\n",
       "</style>\n",
       "<table border=\"1\" class=\"dataframe\">\n",
       "  <thead>\n",
       "    <tr style=\"text-align: right;\">\n",
       "      <th></th>\n",
       "      <th>mixing ratio</th>\n",
       "      <th>reaction energy (eV/atom)</th>\n",
       "      <th>reaction</th>\n",
       "    </tr>\n",
       "  </thead>\n",
       "  <tbody>\n",
       "    <tr>\n",
       "      <th>0</th>\n",
       "      <td>0.0000</td>\n",
       "      <td>0.0000</td>\n",
       "      <td>Li3PS4 -&gt; Li3PS4</td>\n",
       "    </tr>\n",
       "    <tr>\n",
       "      <th>1</th>\n",
       "      <td>0.5000</td>\n",
       "      <td>-0.4624</td>\n",
       "      <td>Li3PS4 + 2 LiCoO2 -&gt; 0.5 Co + Li2S + Li3PO4 + ...</td>\n",
       "    </tr>\n",
       "    <tr>\n",
       "      <th>2</th>\n",
       "      <td>0.8000</td>\n",
       "      <td>-0.5781</td>\n",
       "      <td>0.3333 Li3PS4 + 2.667 LiCoO2 -&gt; 2.667 Co + Li2...</td>\n",
       "    </tr>\n",
       "    <tr>\n",
       "      <th>3</th>\n",
       "      <td>0.8421</td>\n",
       "      <td>-0.5676</td>\n",
       "      <td>0.75 Li3PS4 + 8 LiCoO2 -&gt; 8 Co + Li2O + 3 Li2S...</td>\n",
       "    </tr>\n",
       "    <tr>\n",
       "      <th>4</th>\n",
       "      <td>0.8500</td>\n",
       "      <td>-0.5426</td>\n",
       "      <td>1.5 Li3PS4 + 17 LiCoO2 -&gt; 16 Co + Li5CoO4 + 6 ...</td>\n",
       "    </tr>\n",
       "    <tr>\n",
       "      <th>5</th>\n",
       "      <td>1.0000</td>\n",
       "      <td>0.0000</td>\n",
       "      <td>LiCoO2 -&gt; LiCoO2</td>\n",
       "    </tr>\n",
       "  </tbody>\n",
       "</table>\n",
       "</div>"
      ],
      "text/plain": [
       "   mixing ratio  reaction energy (eV/atom)  \\\n",
       "0        0.0000                     0.0000   \n",
       "1        0.5000                    -0.4624   \n",
       "2        0.8000                    -0.5781   \n",
       "3        0.8421                    -0.5676   \n",
       "4        0.8500                    -0.5426   \n",
       "5        1.0000                     0.0000   \n",
       "\n",
       "                                            reaction  \n",
       "0                                   Li3PS4 -> Li3PS4  \n",
       "1  Li3PS4 + 2 LiCoO2 -> 0.5 Co + Li2S + Li3PO4 + ...  \n",
       "2  0.3333 Li3PS4 + 2.667 LiCoO2 -> 2.667 Co + Li2...  \n",
       "3  0.75 Li3PS4 + 8 LiCoO2 -> 8 Co + Li2O + 3 Li2S...  \n",
       "4  1.5 Li3PS4 + 17 LiCoO2 -> 16 Co + Li5CoO4 + 6 ...  \n",
       "5                                   LiCoO2 -> LiCoO2  "
      ]
     },
     "execution_count": 8,
     "metadata": {},
     "output_type": "execute_result"
    }
   ],
   "source": [
    "critical_rxns_from_API = [\n",
    "    OrderedDict([\n",
    "        (\"mixing ratio\", round(reaction['ratio'], 4)),\n",
    "        (\"reaction energy (eV/atom)\", round(reaction['energy'], 4)),\n",
    "        (\"reaction\", reaction['rxn']),\n",
    "    ])\n",
    "    for reaction in kinks_from_API]\n",
    "DataFrame(critical_rxns_from_API)"
   ]
  }
 ],
 "metadata": {
  "kernelspec": {
   "display_name": "Python 3",
   "language": "python",
   "name": "python3"
  },
  "language_info": {
   "codemirror_mode": {
    "name": "ipython",
    "version": 3
   },
   "file_extension": ".py",
   "mimetype": "text/x-python",
   "name": "python",
   "nbconvert_exporter": "python",
   "pygments_lexer": "ipython3",
   "version": "3.6.4"
  }
 },
 "nbformat": 4,
 "nbformat_minor": 2
}
