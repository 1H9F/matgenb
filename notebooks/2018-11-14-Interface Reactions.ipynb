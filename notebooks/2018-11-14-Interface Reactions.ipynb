{
 "cells": [
  {
   "cell_type": "markdown",
   "metadata": {},
   "source": [
    "# Interface Reactions\n",
    "\n",
    "This notebook shows how to\n",
    "* Obtain information about interface reactions between two solid substances in contact, and\n",
    "* Plot reaction energy as a function of mixing ratio.\n",
    "\n",
    "Written using:\n",
    "- pymatgen==2018.11.6\n",
    "\n",
    "We use the [Materials Project API](https://github.com/materialsproject/mapidoc) to obtain energies of compounds."
   ]
  },
  {
   "cell_type": "code",
   "execution_count": 1,
   "metadata": {},
   "outputs": [
    {
     "name": "stderr",
     "output_type": "stream",
     "text": [
      "/Users/yihanxiao/github/pymatgen/pymatgen/__init__.py:89: UserWarning: \n",
      "Pymatgen will drop Py2k support from v2019.1.1. Pls consult the documentation\n",
      "at https://www.pymatgen.org for more details.\n",
      "  at https://www.pymatgen.org for more details.\"\"\")\n"
     ]
    }
   ],
   "source": [
    "from pymatgen.ext.matproj import MPRester\n",
    "from pymatgen.analysis.interface_reactions import InterfacialReactivity\n",
    "from pymatgen.analysis.phase_diagram import PhaseDiagram, GrandPotentialPhaseDiagram\n",
    "from pymatgen import Composition, Element\n",
    "%matplotlib inline\n",
    "\n",
    "# Initialize the REST API interface. You may need to put your own API key in as an arg.\n",
    "mpr = MPRester()"
   ]
  },
  {
   "cell_type": "markdown",
   "metadata": {},
   "source": [
    "First, set the values of the two reactants. Optionally, simulate the case where the reaction system is in contact with an elemental reservoir.\n",
    "\n",
    "Because the methodology here is to generate a pseudo-binary phase stability diagram of two reactants as a function of mixing ratio, the addition of an elemental reservoir implies construction of a so-called _grand potential phase diagram_."
   ]
  },
  {
   "cell_type": "code",
   "execution_count": 2,
   "metadata": {},
   "outputs": [],
   "source": [
    "# Chemical formulae for two solid reactants.\n",
    "reactant1 = 'LiCoO2'\n",
    "reactant2 = 'Li3PS4'\n",
    "\n",
    "# Is the system open to an elemental reservoir?\n",
    "grand = True\n",
    "\n",
    "if grand:\n",
    "    # Element in the elemental reservoir.\n",
    "    open_el = 'Co'\n",
    "    # Relative chemical potential vs. pure substance. Must be non-positive.\n",
    "    relative_mu = -1"
   ]
  },
  {
   "cell_type": "markdown",
   "metadata": {},
   "source": [
    "Now, compile the critical reaction information:"
   ]
  },
  {
   "cell_type": "code",
   "execution_count": 3,
   "metadata": {},
   "outputs": [],
   "source": [
    "# Get the compositions of the reactants\n",
    "comp1 = Composition(reactant1)\n",
    "comp2 = Composition(reactant2)\n",
    "\n",
    "# Gather all elements involved in the chemical system.\n",
    "elements = [e.symbol for e in comp1.elements + comp2.elements]\n",
    "if grand:\n",
    "    elements.append(open_el)\n",
    "elements = list(set(elements)) # Remove duplicates\n",
    "\n",
    "# Get all entries in the chemical system\n",
    "entries = mpr.get_entries_in_chemsys(elements)\n",
    "\n",
    "# Build a phase diagram using these entries.\n",
    "pd = PhaseDiagram(entries)\n",
    "\n",
    "# For an open system, include the grand potential phase diagram.\n",
    "if grand:\n",
    "    # Get the chemical potential of the pure subtance.\n",
    "    mu = pd.get_transition_chempots(Element(open_el))[0]\n",
    "    # Set the chemical potential in the elemental reservoir.\n",
    "    chempots = {open_el: relative_mu + mu}\n",
    "    # Build the grand potential phase diagram\n",
    "    gpd = GrandPotentialPhaseDiagram(entries, chempots)\n",
    "    # Create InterfacialReactivity object.\n",
    "    interface = InterfacialReactivity(\n",
    "        comp1, comp2, gpd, norm=True, include_no_mixing_energy=True, pd_non_grand=pd, use_hull_energy=False)\n",
    "else:\n",
    "    interface = InterfacialReactivity(\n",
    "        comp1, comp2, pd, norm=True, include_no_mixing_energy=False, pd_non_grand=None, use_hull_energy=False)"
   ]
  },
  {
   "cell_type": "markdown",
   "metadata": {},
   "source": [
    "From here, you can plot reaction energy versus mixing ratio as below. Note that the mixing ratio is between the normalized compositions of the reactants."
   ]
  },
  {
   "cell_type": "code",
   "execution_count": 4,
   "metadata": {},
   "outputs": [
    {
     "data": {
      "image/png": "[encoded data removed]",
      "text/plain": [
       "<matplotlib.figure.Figure at 0x10c645c50>"
      ]
     },
     "metadata": {},
     "output_type": "display_data"
    }
   ],
   "source": [
    "plt = interface.plot()"
   ]
  },
  {
   "cell_type": "markdown",
   "metadata": {},
   "source": [
    "You can also collect the critical reaction equations at each point:"
   ]
  },
  {
   "cell_type": "code",
   "execution_count": 5,
   "metadata": {},
   "outputs": [
    {
     "data": {
      "text/html": [
       "<div>\n",
       "<style scoped>\n",
       "    .dataframe tbody tr th:only-of-type {\n",
       "        vertical-align: middle;\n",
       "    }\n",
       "\n",
       "    .dataframe tbody tr th {\n",
       "        vertical-align: top;\n",
       "    }\n",
       "\n",
       "    .dataframe thead th {\n",
       "        text-align: right;\n",
       "    }\n",
       "</style>\n",
       "<table border=\"1\" class=\"dataframe\">\n",
       "  <thead>\n",
       "    <tr style=\"text-align: right;\">\n",
       "      <th></th>\n",
       "      <th>mixing ratio</th>\n",
       "      <th>reactivity (eV/atom)</th>\n",
       "      <th>reaction</th>\n",
       "      <th>reaction energy (kJ/mol)</th>\n",
       "    </tr>\n",
       "  </thead>\n",
       "  <tbody>\n",
       "    <tr>\n",
       "      <th>0</th>\n",
       "      <td>0.000</td>\n",
       "      <td>0.000</td>\n",
       "      <td>Li3PS4 -&gt; Li3PS4</td>\n",
       "      <td>0.0</td>\n",
       "    </tr>\n",
       "    <tr>\n",
       "      <th>1</th>\n",
       "      <td>0.500</td>\n",
       "      <td>-0.458</td>\n",
       "      <td>Li3PS4 + 2 LiCoO2 -&gt; 0.5 Co + Li2S + 1.5 CoS2 ...</td>\n",
       "      <td>-619.0</td>\n",
       "    </tr>\n",
       "    <tr>\n",
       "      <th>2</th>\n",
       "      <td>0.800</td>\n",
       "      <td>-0.571</td>\n",
       "      <td>Li3PS4 + 8 LiCoO2 -&gt; 8 Co + Li2S + 3 Li2SO4 + ...</td>\n",
       "      <td>-1763.0</td>\n",
       "    </tr>\n",
       "    <tr>\n",
       "      <th>3</th>\n",
       "      <td>0.842</td>\n",
       "      <td>-0.560</td>\n",
       "      <td>Li3PS4 + 10.67 LiCoO2 -&gt; 10.67 Co + 4 Li2SO4 +...</td>\n",
       "      <td>-2162.0</td>\n",
       "    </tr>\n",
       "    <tr>\n",
       "      <th>4</th>\n",
       "      <td>0.850</td>\n",
       "      <td>-0.535</td>\n",
       "      <td>Li3PS4 + 11.33 LiCoO2 -&gt; 10.67 Co + 0.6667 Li5...</td>\n",
       "      <td>-2168.0</td>\n",
       "    </tr>\n",
       "    <tr>\n",
       "      <th>5</th>\n",
       "      <td>1.000</td>\n",
       "      <td>-0.000</td>\n",
       "      <td>LiCoO2 -&gt; LiCoO2</td>\n",
       "      <td>-0.0</td>\n",
       "    </tr>\n",
       "  </tbody>\n",
       "</table>\n",
       "</div>"
      ],
      "text/plain": [
       "   mixing ratio  reactivity (eV/atom)  \\\n",
       "0         0.000                 0.000   \n",
       "1         0.500                -0.458   \n",
       "2         0.800                -0.571   \n",
       "3         0.842                -0.560   \n",
       "4         0.850                -0.535   \n",
       "5         1.000                -0.000   \n",
       "\n",
       "                                            reaction  reaction energy (kJ/mol)  \n",
       "0                                   Li3PS4 -> Li3PS4                       0.0  \n",
       "1  Li3PS4 + 2 LiCoO2 -> 0.5 Co + Li2S + 1.5 CoS2 ...                    -619.0  \n",
       "2  Li3PS4 + 8 LiCoO2 -> 8 Co + Li2S + 3 Li2SO4 + ...                   -1763.0  \n",
       "3  Li3PS4 + 10.67 LiCoO2 -> 10.67 Co + 4 Li2SO4 +...                   -2162.0  \n",
       "4  Li3PS4 + 11.33 LiCoO2 -> 10.67 Co + 0.6667 Li5...                   -2168.0  \n",
       "5                                   LiCoO2 -> LiCoO2                      -0.0  "
      ]
     },
     "execution_count": 5,
     "metadata": {},
     "output_type": "execute_result"
    }
   ],
   "source": [
    "from collections import OrderedDict\n",
    "import pandas as pd\n",
    "\n",
    "critical_rxns = [\n",
    "    OrderedDict([\n",
    "        (\"mixing ratio\", round(ratio, 3)),\n",
    "        (\"reactivity (eV/atom)\", round(reactivity, 3)),\n",
    "        (\"reaction\", rxn),\n",
    "        (\"reaction energy (kJ/mol)\", round(rxn_energy))\n",
    "    ])\n",
    "    for _, ratio, reactivity, rxn, rxn_energy in interface.get_kinks()]\n",
    "interface_reaction_table = pd.DataFrame(critical_rxns)\n",
    "interface_reaction_table"
   ]
  },
  {
   "cell_type": "markdown",
   "metadata": {},
   "source": [
    "You can also obtain the mixing ratio between the original compositions, i.e. mol fraction of the first reactant."
   ]
  },
  {
   "cell_type": "code",
   "execution_count": 6,
   "metadata": {},
   "outputs": [
    {
     "data": {
      "text/html": [
       "<div>\n",
       "<style scoped>\n",
       "    .dataframe tbody tr th:only-of-type {\n",
       "        vertical-align: middle;\n",
       "    }\n",
       "\n",
       "    .dataframe tbody tr th {\n",
       "        vertical-align: top;\n",
       "    }\n",
       "\n",
       "    .dataframe thead th {\n",
       "        text-align: right;\n",
       "    }\n",
       "</style>\n",
       "<table border=\"1\" class=\"dataframe\">\n",
       "  <thead>\n",
       "    <tr style=\"text-align: right;\">\n",
       "      <th></th>\n",
       "      <th>mixing ratio</th>\n",
       "      <th>reactivity (eV/atom)</th>\n",
       "      <th>reaction</th>\n",
       "      <th>reaction energy (kJ/mol)</th>\n",
       "      <th>Mol Fraction</th>\n",
       "    </tr>\n",
       "  </thead>\n",
       "  <tbody>\n",
       "    <tr>\n",
       "      <th>0</th>\n",
       "      <td>0.000</td>\n",
       "      <td>0.000</td>\n",
       "      <td>Li3PS4 -&gt; Li3PS4</td>\n",
       "      <td>0.0</td>\n",
       "      <td>0.000</td>\n",
       "    </tr>\n",
       "    <tr>\n",
       "      <th>1</th>\n",
       "      <td>0.500</td>\n",
       "      <td>-0.458</td>\n",
       "      <td>Li3PS4 + 2 LiCoO2 -&gt; 0.5 Co + Li2S + 1.5 CoS2 ...</td>\n",
       "      <td>-619.0</td>\n",
       "      <td>0.667</td>\n",
       "    </tr>\n",
       "    <tr>\n",
       "      <th>2</th>\n",
       "      <td>0.800</td>\n",
       "      <td>-0.571</td>\n",
       "      <td>Li3PS4 + 8 LiCoO2 -&gt; 8 Co + Li2S + 3 Li2SO4 + ...</td>\n",
       "      <td>-1763.0</td>\n",
       "      <td>0.889</td>\n",
       "    </tr>\n",
       "    <tr>\n",
       "      <th>3</th>\n",
       "      <td>0.842</td>\n",
       "      <td>-0.560</td>\n",
       "      <td>Li3PS4 + 10.67 LiCoO2 -&gt; 10.67 Co + 4 Li2SO4 +...</td>\n",
       "      <td>-2162.0</td>\n",
       "      <td>0.914</td>\n",
       "    </tr>\n",
       "    <tr>\n",
       "      <th>4</th>\n",
       "      <td>0.850</td>\n",
       "      <td>-0.535</td>\n",
       "      <td>Li3PS4 + 11.33 LiCoO2 -&gt; 10.67 Co + 0.6667 Li5...</td>\n",
       "      <td>-2168.0</td>\n",
       "      <td>0.919</td>\n",
       "    </tr>\n",
       "    <tr>\n",
       "      <th>5</th>\n",
       "      <td>1.000</td>\n",
       "      <td>-0.000</td>\n",
       "      <td>LiCoO2 -&gt; LiCoO2</td>\n",
       "      <td>-0.0</td>\n",
       "      <td>1.000</td>\n",
       "    </tr>\n",
       "  </tbody>\n",
       "</table>\n",
       "</div>"
      ],
      "text/plain": [
       "   mixing ratio  reactivity (eV/atom)  \\\n",
       "0         0.000                 0.000   \n",
       "1         0.500                -0.458   \n",
       "2         0.800                -0.571   \n",
       "3         0.842                -0.560   \n",
       "4         0.850                -0.535   \n",
       "5         1.000                -0.000   \n",
       "\n",
       "                                            reaction  \\\n",
       "0                                   Li3PS4 -> Li3PS4   \n",
       "1  Li3PS4 + 2 LiCoO2 -> 0.5 Co + Li2S + 1.5 CoS2 ...   \n",
       "2  Li3PS4 + 8 LiCoO2 -> 8 Co + Li2S + 3 Li2SO4 + ...   \n",
       "3  Li3PS4 + 10.67 LiCoO2 -> 10.67 Co + 4 Li2SO4 +...   \n",
       "4  Li3PS4 + 11.33 LiCoO2 -> 10.67 Co + 0.6667 Li5...   \n",
       "5                                   LiCoO2 -> LiCoO2   \n",
       "\n",
       "   reaction energy (kJ/mol)  Mol Fraction  \n",
       "0                       0.0         0.000  \n",
       "1                    -619.0         0.667  \n",
       "2                   -1763.0         0.889  \n",
       "3                   -2162.0         0.914  \n",
       "4                   -2168.0         0.919  \n",
       "5                      -0.0         1.000  "
      ]
     },
     "execution_count": 6,
     "metadata": {},
     "output_type": "execute_result"
    }
   ],
   "source": [
    "import numpy as np\n",
    "interface_reaction_table['Mol Fraction'] = pd.Series(np.round(interface.get_critical_original_kink_ratio(), 3))\n",
    "interface_reaction_table"
   ]
  },
  {
   "cell_type": "markdown",
   "metadata": {},
   "source": [
    "Note that the reaction equations are `Reaction` objects suitable for structured analysis:"
   ]
  },
  {
   "cell_type": "code",
   "execution_count": 7,
   "metadata": {},
   "outputs": [
    {
     "name": "stdout",
     "output_type": "stream",
     "text": [
      "Li3PS4 + 8 LiCoO2 -> 8 Co + Li2S + 3 Li2SO4 + Li3PO4\n",
      "<class 'pymatgen.analysis.reaction_calculator.Reaction'>\n"
     ]
    }
   ],
   "source": [
    "rxn = critical_rxns[2][\"reaction\"]\n",
    "print(rxn)\n",
    "print(type(rxn))"
   ]
  },
  {
   "cell_type": "markdown",
   "metadata": {},
   "source": [
    "Now, the REST API interface provides a shortcut to obtain reaction information in a list of map."
   ]
  },
  {
   "cell_type": "code",
   "execution_count": 8,
   "metadata": {},
   "outputs": [
    {
     "name": "stdout",
     "output_type": "stream",
     "text": [
      "{u'energy_per_mol_rxn_kJmol': -619.1697988675436, u'rxn': Li3PS4 + 2 LiCoO2 -> 0.5 Co + Li2S + 1.5 CoS2 + Li3PO4, u'energy': -0.45837463535714296, u'rxn_str': u'Li3PS4 + 2 LiCoO2 -> 0.5 Co + Li2S + 1.5 CoS2 + Li3PO4', u'ratio': 0.6666666666666665, u'rxn_energy_sigdig_kJmol': u'-619.2', u'rxn_energy_sigdig': u'-0.4584'}\n"
     ]
    }
   ],
   "source": [
    "# Get interface reaction information for reactants LiCoO2 and Li3PS4 in open system to Co.\n",
    "kinks_from_API = mpr.get_interface_reactions('LiCoO2','Li3PS4', open_el='Co', relative_mu=-1, use_hull_energy=False)\n",
    "\n",
    "# Get inforamtion for the second critical reaction.\n",
    "print(kinks_from_API[1])"
   ]
  },
  {
   "cell_type": "markdown",
   "metadata": {},
   "source": [
    "The critical reaction information from REST API should be the same as in the previous table:"
   ]
  },
  {
   "cell_type": "code",
   "execution_count": 9,
   "metadata": {},
   "outputs": [
    {
     "data": {
      "text/html": [
       "<div>\n",
       "<style scoped>\n",
       "    .dataframe tbody tr th:only-of-type {\n",
       "        vertical-align: middle;\n",
       "    }\n",
       "\n",
       "    .dataframe tbody tr th {\n",
       "        vertical-align: top;\n",
       "    }\n",
       "\n",
       "    .dataframe thead th {\n",
       "        text-align: right;\n",
       "    }\n",
       "</style>\n",
       "<table border=\"1\" class=\"dataframe\">\n",
       "  <thead>\n",
       "    <tr style=\"text-align: right;\">\n",
       "      <th></th>\n",
       "      <th>Mol Fraction</th>\n",
       "      <th>reactivity (eV/atom)</th>\n",
       "      <th>reaction</th>\n",
       "      <th>reaction energy (kJ/mol)</th>\n",
       "    </tr>\n",
       "  </thead>\n",
       "  <tbody>\n",
       "    <tr>\n",
       "      <th>0</th>\n",
       "      <td>0.000</td>\n",
       "      <td>0.000</td>\n",
       "      <td>Li3PS4 -&gt; Li3PS4</td>\n",
       "      <td>0.0</td>\n",
       "    </tr>\n",
       "    <tr>\n",
       "      <th>1</th>\n",
       "      <td>0.667</td>\n",
       "      <td>-0.458</td>\n",
       "      <td>Li3PS4 + 2 LiCoO2 -&gt; 0.5 Co + Li2S + 1.5 CoS2 ...</td>\n",
       "      <td>-619.0</td>\n",
       "    </tr>\n",
       "    <tr>\n",
       "      <th>2</th>\n",
       "      <td>0.889</td>\n",
       "      <td>-0.571</td>\n",
       "      <td>Li3PS4 + 8 LiCoO2 -&gt; 8 Co + 3 Li2SO4 + Li2S + ...</td>\n",
       "      <td>-1763.0</td>\n",
       "    </tr>\n",
       "    <tr>\n",
       "      <th>3</th>\n",
       "      <td>0.914</td>\n",
       "      <td>-0.560</td>\n",
       "      <td>Li3PS4 + 10.67 LiCoO2 -&gt; 10.67 Co + 1.333 Li2O...</td>\n",
       "      <td>-2162.0</td>\n",
       "    </tr>\n",
       "    <tr>\n",
       "      <th>4</th>\n",
       "      <td>0.919</td>\n",
       "      <td>-0.535</td>\n",
       "      <td>Li3PS4 + 11.33 LiCoO2 -&gt; 10.67 Co + 0.6667 Li5...</td>\n",
       "      <td>-2168.0</td>\n",
       "    </tr>\n",
       "    <tr>\n",
       "      <th>5</th>\n",
       "      <td>1.000</td>\n",
       "      <td>-0.000</td>\n",
       "      <td>LiCoO2 -&gt; LiCoO2</td>\n",
       "      <td>-0.0</td>\n",
       "    </tr>\n",
       "  </tbody>\n",
       "</table>\n",
       "</div>"
      ],
      "text/plain": [
       "   Mol Fraction  reactivity (eV/atom)  \\\n",
       "0         0.000                 0.000   \n",
       "1         0.667                -0.458   \n",
       "2         0.889                -0.571   \n",
       "3         0.914                -0.560   \n",
       "4         0.919                -0.535   \n",
       "5         1.000                -0.000   \n",
       "\n",
       "                                            reaction  reaction energy (kJ/mol)  \n",
       "0                                   Li3PS4 -> Li3PS4                       0.0  \n",
       "1  Li3PS4 + 2 LiCoO2 -> 0.5 Co + Li2S + 1.5 CoS2 ...                    -619.0  \n",
       "2  Li3PS4 + 8 LiCoO2 -> 8 Co + 3 Li2SO4 + Li2S + ...                   -1763.0  \n",
       "3  Li3PS4 + 10.67 LiCoO2 -> 10.67 Co + 1.333 Li2O...                   -2162.0  \n",
       "4  Li3PS4 + 11.33 LiCoO2 -> 10.67 Co + 0.6667 Li5...                   -2168.0  \n",
       "5                                   LiCoO2 -> LiCoO2                      -0.0  "
      ]
     },
     "execution_count": 9,
     "metadata": {},
     "output_type": "execute_result"
    }
   ],
   "source": [
    "critical_rxns_from_API = [\n",
    "    OrderedDict([\n",
    "        (\"Mol Fraction\", round(reaction['ratio'], 3)),\n",
    "        (\"reactivity (eV/atom)\", round(reaction['energy'], 3)),\n",
    "        (\"reaction\", reaction['rxn_str']),\n",
    "        (\"reaction energy (kJ/mol)\", round(float(reaction['rxn_energy_sigdig_kJmol'])))\n",
    "    ])\n",
    "    for reaction in kinks_from_API]\n",
    "pd.DataFrame(critical_rxns_from_API)"
   ]
  },
  {
   "cell_type": "code",
   "execution_count": null,
   "metadata": {},
   "outputs": [],
   "source": []
  }
 ],
 "metadata": {
  "kernelspec": {
   "display_name": "Python 2",
   "language": "python",
   "name": "python2"
  },
  "language_info": {
   "codemirror_mode": {
    "name": "ipython",
    "version": 2
   },
   "file_extension": ".py",
   "mimetype": "text/x-python",
   "name": "python",
   "nbconvert_exporter": "python",
   "pygments_lexer": "ipython2",
   "version": "2.7.13"
  }
 },
 "nbformat": 4,
 "nbformat_minor": 2
}
